{
 "cells": [
  {
   "cell_type": "code",
   "execution_count": 1,
   "id": "393de76f",
   "metadata": {
    "_cell_guid": "b1076dfc-b9ad-4769-8c92-a6c4dae69d19",
    "_uuid": "8f2839f25d086af736a60e9eeb907d3b93b6e0e5",
    "execution": {
     "iopub.execute_input": "2023-03-14T13:32:24.271098Z",
     "iopub.status.busy": "2023-03-14T13:32:24.270664Z",
     "iopub.status.idle": "2023-03-14T13:32:24.286211Z",
     "shell.execute_reply": "2023-03-14T13:32:24.285264Z"
    },
    "papermill": {
     "duration": 0.026045,
     "end_time": "2023-03-14T13:32:24.288343",
     "exception": false,
     "start_time": "2023-03-14T13:32:24.262298",
     "status": "completed"
    },
    "tags": []
   },
   "outputs": [
    {
     "name": "stdout",
     "output_type": "stream",
     "text": [
      "/kaggle/input/playground-series-s3e9/sample_submission.csv\n",
      "/kaggle/input/playground-series-s3e9/train.csv\n",
      "/kaggle/input/playground-series-s3e9/test.csv\n"
     ]
    }
   ],
   "source": [
    "# This Python 3 environment comes with many helpful analytics libraries installed\n",
    "# It is defined by the kaggle/python Docker image: https://github.com/kaggle/docker-python\n",
    "# For example, here's several helpful packages to load\n",
    "\n",
    "import numpy as np # linear algebra\n",
    "import pandas as pd # data processing, CSV file I/O (e.g. pd.read_csv)\n",
    "\n",
    "# Input data files are available in the read-only \"../input/\" directory\n",
    "# For example, running this (by clicking run or pressing Shift+Enter) will list all files under the input directory\n",
    "\n",
    "import os\n",
    "for dirname, _, filenames in os.walk('/kaggle/input'):\n",
    "    for filename in filenames:\n",
    "        print(os.path.join(dirname, filename))\n",
    "\n",
    "# You can write up to 20GB to the current directory (/kaggle/working/) that gets preserved as output when you create a version using \"Save & Run All\" \n",
    "# You can also write temporary files to /kaggle/temp/, but they won't be saved outside of the current session"
   ]
  },
  {
   "cell_type": "code",
   "execution_count": 2,
   "id": "8c92f9e2",
   "metadata": {
    "execution": {
     "iopub.execute_input": "2023-03-14T13:32:24.300967Z",
     "iopub.status.busy": "2023-03-14T13:32:24.300674Z",
     "iopub.status.idle": "2023-03-14T13:32:27.714827Z",
     "shell.execute_reply": "2023-03-14T13:32:27.713823Z"
    },
    "papermill": {
     "duration": 3.423371,
     "end_time": "2023-03-14T13:32:27.717370",
     "exception": false,
     "start_time": "2023-03-14T13:32:24.293999",
     "status": "completed"
    },
    "tags": []
   },
   "outputs": [
    {
     "data": {
      "text/html": [
       "<style type='text/css'>\n",
       ".datatable table.frame { margin-bottom: 0; }\n",
       ".datatable table.frame thead { border-bottom: none; }\n",
       ".datatable table.frame tr.coltypes td {  color: #FFFFFF;  line-height: 6px;  padding: 0 0.5em;}\n",
       ".datatable .bool    { background: #DDDD99; }\n",
       ".datatable .object  { background: #565656; }\n",
       ".datatable .int     { background: #5D9E5D; }\n",
       ".datatable .float   { background: #4040CC; }\n",
       ".datatable .str     { background: #CC4040; }\n",
       ".datatable .time    { background: #40CC40; }\n",
       ".datatable .row_index {  background: var(--jp-border-color3);  border-right: 1px solid var(--jp-border-color0);  color: var(--jp-ui-font-color3);  font-size: 9px;}\n",
       ".datatable .frame tbody td { text-align: left; }\n",
       ".datatable .frame tr.coltypes .row_index {  background: var(--jp-border-color0);}\n",
       ".datatable th:nth-child(2) { padding-left: 12px; }\n",
       ".datatable .hellipsis {  color: var(--jp-cell-editor-border-color);}\n",
       ".datatable .vellipsis {  background: var(--jp-layout-color0);  color: var(--jp-cell-editor-border-color);}\n",
       ".datatable .na {  color: var(--jp-cell-editor-border-color);  font-size: 80%;}\n",
       ".datatable .sp {  opacity: 0.25;}\n",
       ".datatable .footer { font-size: 9px; }\n",
       ".datatable .frame_dimensions {  background: var(--jp-border-color3);  border-top: 1px solid var(--jp-border-color0);  color: var(--jp-ui-font-color3);  display: inline-block;  opacity: 0.6;  padding: 1px 10px 1px 5px;}\n",
       "</style>\n"
      ],
      "text/plain": [
       "<IPython.core.display.HTML object>"
      ]
     },
     "metadata": {},
     "output_type": "display_data"
    }
   ],
   "source": [
    "import seaborn as sns\n",
    "import xgboost as xgb\n",
    "import matplotlib.pyplot as plt\n",
    "from lightgbm import LGBMRegressor\n",
    "from lightgbm import log_evaluation, early_stopping\n",
    "from matplotlib import pyplot as plt\n",
    "from sklearn.preprocessing import MinMaxScaler, StandardScaler\n",
    "from sklearn.model_selection import KFold, cross_val_score, StratifiedKFold, KFold\n",
    "from sklearn.metrics import mean_squared_error, roc_curve, auc, accuracy_score, confusion_matrix, f1_score\n",
    "from sklearn.model_selection import train_test_split\n",
    "import optuna\n",
    "from optuna.samplers import TPESampler"
   ]
  },
  {
   "cell_type": "code",
   "execution_count": 3,
   "id": "22a284a1",
   "metadata": {
    "execution": {
     "iopub.execute_input": "2023-03-14T13:32:27.731659Z",
     "iopub.status.busy": "2023-03-14T13:32:27.730087Z",
     "iopub.status.idle": "2023-03-14T13:32:27.766197Z",
     "shell.execute_reply": "2023-03-14T13:32:27.765228Z"
    },
    "papermill": {
     "duration": 0.045307,
     "end_time": "2023-03-14T13:32:27.768570",
     "exception": false,
     "start_time": "2023-03-14T13:32:27.723263",
     "status": "completed"
    },
    "tags": []
   },
   "outputs": [],
   "source": [
    "train = pd.read_csv(\"/kaggle/input/playground-series-s3e9/train.csv\")\n",
    "test = pd.read_csv(\"/kaggle/input/playground-series-s3e9/test.csv\")"
   ]
  },
  {
   "cell_type": "code",
   "execution_count": 4,
   "id": "c5200c99",
   "metadata": {
    "execution": {
     "iopub.execute_input": "2023-03-14T13:32:27.781279Z",
     "iopub.status.busy": "2023-03-14T13:32:27.780968Z",
     "iopub.status.idle": "2023-03-14T13:32:27.801991Z",
     "shell.execute_reply": "2023-03-14T13:32:27.800855Z"
    },
    "papermill": {
     "duration": 0.030428,
     "end_time": "2023-03-14T13:32:27.804668",
     "exception": false,
     "start_time": "2023-03-14T13:32:27.774240",
     "status": "completed"
    },
    "tags": []
   },
   "outputs": [
    {
     "data": {
      "text/html": [
       "<div>\n",
       "<style scoped>\n",
       "    .dataframe tbody tr th:only-of-type {\n",
       "        vertical-align: middle;\n",
       "    }\n",
       "\n",
       "    .dataframe tbody tr th {\n",
       "        vertical-align: top;\n",
       "    }\n",
       "\n",
       "    .dataframe thead th {\n",
       "        text-align: right;\n",
       "    }\n",
       "</style>\n",
       "<table border=\"1\" class=\"dataframe\">\n",
       "  <thead>\n",
       "    <tr style=\"text-align: right;\">\n",
       "      <th></th>\n",
       "      <th>id</th>\n",
       "      <th>CementComponent</th>\n",
       "      <th>BlastFurnaceSlag</th>\n",
       "      <th>FlyAshComponent</th>\n",
       "      <th>WaterComponent</th>\n",
       "      <th>SuperplasticizerComponent</th>\n",
       "      <th>CoarseAggregateComponent</th>\n",
       "      <th>FineAggregateComponent</th>\n",
       "      <th>AgeInDays</th>\n",
       "      <th>Strength</th>\n",
       "    </tr>\n",
       "  </thead>\n",
       "  <tbody>\n",
       "    <tr>\n",
       "      <th>0</th>\n",
       "      <td>0</td>\n",
       "      <td>525.0</td>\n",
       "      <td>0.0</td>\n",
       "      <td>0.0</td>\n",
       "      <td>186.0</td>\n",
       "      <td>0.0</td>\n",
       "      <td>1125.0</td>\n",
       "      <td>613.0</td>\n",
       "      <td>3</td>\n",
       "      <td>10.38</td>\n",
       "    </tr>\n",
       "    <tr>\n",
       "      <th>1</th>\n",
       "      <td>1</td>\n",
       "      <td>143.0</td>\n",
       "      <td>169.0</td>\n",
       "      <td>143.0</td>\n",
       "      <td>191.0</td>\n",
       "      <td>8.0</td>\n",
       "      <td>967.0</td>\n",
       "      <td>643.0</td>\n",
       "      <td>28</td>\n",
       "      <td>23.52</td>\n",
       "    </tr>\n",
       "    <tr>\n",
       "      <th>2</th>\n",
       "      <td>2</td>\n",
       "      <td>289.0</td>\n",
       "      <td>134.7</td>\n",
       "      <td>0.0</td>\n",
       "      <td>185.7</td>\n",
       "      <td>0.0</td>\n",
       "      <td>1075.0</td>\n",
       "      <td>795.3</td>\n",
       "      <td>28</td>\n",
       "      <td>36.96</td>\n",
       "    </tr>\n",
       "    <tr>\n",
       "      <th>3</th>\n",
       "      <td>3</td>\n",
       "      <td>304.0</td>\n",
       "      <td>76.0</td>\n",
       "      <td>0.0</td>\n",
       "      <td>228.0</td>\n",
       "      <td>0.0</td>\n",
       "      <td>932.0</td>\n",
       "      <td>670.0</td>\n",
       "      <td>365</td>\n",
       "      <td>39.05</td>\n",
       "    </tr>\n",
       "    <tr>\n",
       "      <th>4</th>\n",
       "      <td>4</td>\n",
       "      <td>157.0</td>\n",
       "      <td>236.0</td>\n",
       "      <td>0.0</td>\n",
       "      <td>192.0</td>\n",
       "      <td>0.0</td>\n",
       "      <td>935.4</td>\n",
       "      <td>781.2</td>\n",
       "      <td>90</td>\n",
       "      <td>74.19</td>\n",
       "    </tr>\n",
       "  </tbody>\n",
       "</table>\n",
       "</div>"
      ],
      "text/plain": [
       "   id  CementComponent  BlastFurnaceSlag  FlyAshComponent  WaterComponent  \\\n",
       "0   0            525.0               0.0              0.0           186.0   \n",
       "1   1            143.0             169.0            143.0           191.0   \n",
       "2   2            289.0             134.7              0.0           185.7   \n",
       "3   3            304.0              76.0              0.0           228.0   \n",
       "4   4            157.0             236.0              0.0           192.0   \n",
       "\n",
       "   SuperplasticizerComponent  CoarseAggregateComponent  \\\n",
       "0                        0.0                    1125.0   \n",
       "1                        8.0                     967.0   \n",
       "2                        0.0                    1075.0   \n",
       "3                        0.0                     932.0   \n",
       "4                        0.0                     935.4   \n",
       "\n",
       "   FineAggregateComponent  AgeInDays  Strength  \n",
       "0                   613.0          3     10.38  \n",
       "1                   643.0         28     23.52  \n",
       "2                   795.3         28     36.96  \n",
       "3                   670.0        365     39.05  \n",
       "4                   781.2         90     74.19  "
      ]
     },
     "execution_count": 4,
     "metadata": {},
     "output_type": "execute_result"
    }
   ],
   "source": [
    "train.head(5)"
   ]
  },
  {
   "cell_type": "code",
   "execution_count": 5,
   "id": "4fb8775f",
   "metadata": {
    "execution": {
     "iopub.execute_input": "2023-03-14T13:32:27.817308Z",
     "iopub.status.busy": "2023-03-14T13:32:27.817018Z",
     "iopub.status.idle": "2023-03-14T13:32:27.823297Z",
     "shell.execute_reply": "2023-03-14T13:32:27.822300Z"
    },
    "papermill": {
     "duration": 0.015337,
     "end_time": "2023-03-14T13:32:27.825728",
     "exception": false,
     "start_time": "2023-03-14T13:32:27.810391",
     "status": "completed"
    },
    "tags": []
   },
   "outputs": [
    {
     "data": {
      "text/plain": [
       "10"
      ]
     },
     "execution_count": 5,
     "metadata": {},
     "output_type": "execute_result"
    }
   ],
   "source": [
    "len(train.columns)"
   ]
  },
  {
   "cell_type": "code",
   "execution_count": 6,
   "id": "730957cf",
   "metadata": {
    "execution": {
     "iopub.execute_input": "2023-03-14T13:32:27.839073Z",
     "iopub.status.busy": "2023-03-14T13:32:27.838152Z",
     "iopub.status.idle": "2023-03-14T13:32:28.134453Z",
     "shell.execute_reply": "2023-03-14T13:32:28.133496Z"
    },
    "papermill": {
     "duration": 0.305345,
     "end_time": "2023-03-14T13:32:28.136676",
     "exception": false,
     "start_time": "2023-03-14T13:32:27.831331",
     "status": "completed"
    },
    "tags": []
   },
   "outputs": [
    {
     "data": {
      "image/png": "[encoded data removed]",
      "text/plain": [
       "<Figure size 1600x600 with 1 Axes>"
      ]
     },
     "metadata": {},
     "output_type": "display_data"
    }
   ],
   "source": [
    "# Plotting figures for null values.\n",
    "fig, ax = plt.subplots(figsize = (16, 6))\n",
    "\n",
    "bars = ax.bar(train.isna().sum().index,\n",
    "             train.isna().sum().values,\n",
    "             color = \"lightskyblue\",\n",
    "             edgecolor = \"black\",\n",
    "             width = 0.7)\n",
    "\n",
    "ax.set_title(\"The distribution of the null values in the dataset\", fontsize = 15, pad = 15)\n",
    "ax.set_ylabel(\"Missing values\", fontsize = 14, labelpad = 15)\n",
    "ax.set_xlabel(\"Feature\", fontsize = 14, labelpad = 10)\n",
    "ax.set_xticks([x if i % 2 == 0 else \"\" for i, x in enumerate(train.columns.values)])\n",
    "ax.tick_params(axis = \"x\", rotation = 90, labelsize = 8)\n",
    "ax.margins(0.005, 0.12)\n",
    "ax.grid(axis = \"y\")\n",
    "\n",
    "plt.show();"
   ]
  },
  {
   "cell_type": "markdown",
   "id": "c9623818",
   "metadata": {
    "papermill": {
     "duration": 0.006052,
     "end_time": "2023-03-14T13:32:28.149724",
     "exception": false,
     "start_time": "2023-03-14T13:32:28.143672",
     "status": "completed"
    },
    "tags": []
   },
   "source": [
    "### Data Preprocessing"
   ]
  },
  {
   "cell_type": "code",
   "execution_count": 7,
   "id": "68850d85",
   "metadata": {
    "execution": {
     "iopub.execute_input": "2023-03-14T13:32:28.163669Z",
     "iopub.status.busy": "2023-03-14T13:32:28.163341Z",
     "iopub.status.idle": "2023-03-14T13:32:28.169030Z",
     "shell.execute_reply": "2023-03-14T13:32:28.167945Z"
    },
    "papermill": {
     "duration": 0.015579,
     "end_time": "2023-03-14T13:32:28.171471",
     "exception": false,
     "start_time": "2023-03-14T13:32:28.155892",
     "status": "completed"
    },
    "tags": []
   },
   "outputs": [],
   "source": [
    "features = [x for x in train.columns.values if x[0] == \"f\"]\n",
    "\n",
    "for feature in features:\n",
    "    train[feature].fillna(np.mean(train[feature]), inplace = True)\n",
    "    test[feature].fillna(np.mean(test[feature]), inplace = True)"
   ]
  },
  {
   "cell_type": "code",
   "execution_count": 8,
   "id": "9462b144",
   "metadata": {
    "execution": {
     "iopub.execute_input": "2023-03-14T13:32:28.185074Z",
     "iopub.status.busy": "2023-03-14T13:32:28.184804Z",
     "iopub.status.idle": "2023-03-14T13:32:28.191192Z",
     "shell.execute_reply": "2023-03-14T13:32:28.190233Z"
    },
    "papermill": {
     "duration": 0.015649,
     "end_time": "2023-03-14T13:32:28.193234",
     "exception": false,
     "start_time": "2023-03-14T13:32:28.177585",
     "status": "completed"
    },
    "tags": []
   },
   "outputs": [],
   "source": [
    "from copy import deepcopy\n",
    "Scaler = StandardScaler()\n",
    "train_s = deepcopy(train)\n",
    "test_s = deepcopy(test)\n",
    "\n",
    "for feature in features:\n",
    "    train_s[feature] = Scaler.fit_transform(np.array(train[feature]), reshape(-1, 1))\n",
    "    test_s[feature] = Scaler.fit_transform(np.array(test[feature]), reshape(-1, 1))"
   ]
  },
  {
   "cell_type": "code",
   "execution_count": 9,
   "id": "45438b1e",
   "metadata": {
    "execution": {
     "iopub.execute_input": "2023-03-14T13:32:28.207379Z",
     "iopub.status.busy": "2023-03-14T13:32:28.206542Z",
     "iopub.status.idle": "2023-03-14T13:32:28.217379Z",
     "shell.execute_reply": "2023-03-14T13:32:28.216397Z"
    },
    "papermill": {
     "duration": 0.020445,
     "end_time": "2023-03-14T13:32:28.220033",
     "exception": false,
     "start_time": "2023-03-14T13:32:28.199588",
     "status": "completed"
    },
    "tags": []
   },
   "outputs": [],
   "source": [
    "X, y = train.drop([\"id\", \"Strength\"], axis = 1), train.Strength"
   ]
  },
  {
   "cell_type": "code",
   "execution_count": 10,
   "id": "cc050a8f",
   "metadata": {
    "execution": {
     "iopub.execute_input": "2023-03-14T13:32:28.234951Z",
     "iopub.status.busy": "2023-03-14T13:32:28.234018Z",
     "iopub.status.idle": "2023-03-14T13:32:28.241148Z",
     "shell.execute_reply": "2023-03-14T13:32:28.240089Z"
    },
    "papermill": {
     "duration": 0.016387,
     "end_time": "2023-03-14T13:32:28.243220",
     "exception": false,
     "start_time": "2023-03-14T13:32:28.226833",
     "status": "completed"
    },
    "tags": []
   },
   "outputs": [
    {
     "data": {
      "text/plain": [
       "Index(['CementComponent', 'BlastFurnaceSlag', 'FlyAshComponent',\n",
       "       'WaterComponent', 'SuperplasticizerComponent',\n",
       "       'CoarseAggregateComponent', 'FineAggregateComponent', 'AgeInDays'],\n",
       "      dtype='object')"
      ]
     },
     "execution_count": 10,
     "metadata": {},
     "output_type": "execute_result"
    }
   ],
   "source": [
    "X.columns"
   ]
  },
  {
   "cell_type": "code",
   "execution_count": 11,
   "id": "d807ab5f",
   "metadata": {
    "execution": {
     "iopub.execute_input": "2023-03-14T13:32:28.257397Z",
     "iopub.status.busy": "2023-03-14T13:32:28.256568Z",
     "iopub.status.idle": "2023-03-14T13:32:28.265306Z",
     "shell.execute_reply": "2023-03-14T13:32:28.264434Z"
    },
    "papermill": {
     "duration": 0.017903,
     "end_time": "2023-03-14T13:32:28.267373",
     "exception": false,
     "start_time": "2023-03-14T13:32:28.249470",
     "status": "completed"
    },
    "tags": []
   },
   "outputs": [],
   "source": [
    "def iqr_capping(df, cols, factor, if_upper=True, if_lower=True):\n",
    "    for col in cols:\n",
    "        df_outliers = df.copy()\n",
    "        df_outliers[col] = sorted(df_outliers[col])\n",
    "        Q1 = df_outliers[col].quantile(0.25)\n",
    "        Q3 = df_outliers[col].quantile(0.75)\n",
    "\n",
    "#         if Q3 == 0.0 or Q1 == 0.0:\n",
    "\n",
    "\n",
    "#             # Q1 =0 or Q3 = 0 means that there are almost or more than 0 values in perticular column.\n",
    "#             # the bais is so much and lets categorize those values as 0 and 1. 0 = values is zero, 1 = value is not zero\n",
    "#             df[col] = np.where(df[col] == 0.0, 0, 1)\n",
    "#             df[col] = np.where(df[col] == 0, 0, 1)\n",
    "#             df[col] = df[col].astype('int64')\n",
    "\n",
    "        IQR = Q3 - Q1\n",
    "\n",
    "        lower_bound = Q1 - (factor*IQR)\n",
    "        upper_bound = Q3 + (factor*IQR)\n",
    "        \n",
    "        if if_upper:\n",
    "            df[col] = np.where(df[col] > upper_bound, upper_bound, df[col])\n",
    "        if if_lower:\n",
    "            df[col] = np.where(df[col] < lower_bound, lower_bound, df[col])  \n",
    "    return df\n",
    "\n",
    "def outliers(data, col_list, if_upper=True, if_lower=True):\n",
    "\n",
    "    data_cap = data.copy()\n",
    "\n",
    "    new_data = iqr_capping(data_cap, col_list, 1.5, if_upper, if_lower)\n",
    "    return new_data"
   ]
  },
  {
   "cell_type": "code",
   "execution_count": 12,
   "id": "4825cc50",
   "metadata": {
    "execution": {
     "iopub.execute_input": "2023-03-14T13:32:28.281268Z",
     "iopub.status.busy": "2023-03-14T13:32:28.280998Z",
     "iopub.status.idle": "2023-03-14T13:32:28.288986Z",
     "shell.execute_reply": "2023-03-14T13:32:28.287986Z"
    },
    "papermill": {
     "duration": 0.01745,
     "end_time": "2023-03-14T13:32:28.291054",
     "exception": false,
     "start_time": "2023-03-14T13:32:28.273604",
     "status": "completed"
    },
    "tags": []
   },
   "outputs": [],
   "source": [
    "def feature_engineering(df):\n",
    "    df = outliers(df, ['AgeInDays'], True, False)\n",
    "#     df['Water_Cement'] = df['WaterComponent'] / df['CementComponent'] # delete\n",
    "    df['total'] = df['CementComponent'] + df['BlastFurnaceSlag'] + df['FlyAshComponent'] + df['WaterComponent'] + df['SuperplasticizerComponent'] + df['CoarseAggregateComponent'] + df['FineAggregateComponent']\n",
    "    df['Coarse_Fine'] = df['CoarseAggregateComponent'] / df['FineAggregateComponent']\n",
    "    df['Aggregate'] = df['CoarseAggregateComponent'] + df['FineAggregateComponent']\n",
    "#     df['Aggregate_Cement'] = df['Aggregate'] / df['CementComponent'] # delete\n",
    "    df['Slag_Cement'] = df['BlastFurnaceSlag'] / df['CementComponent']\n",
    "    df['Ash_Cement'] = df['FlyAshComponent'] / df['CementComponent']\n",
    "#     df['Plastic_Cement'] = df['SuperplasticizerComponent'] / df['CementComponent']\n",
    "    df['Age_Water'] = df['AgeInDays'] / df['WaterComponent']\n",
    "    df['Cem_pct'] = df['CementComponent'] / df['total']\n",
    "    df['Blast_pct'] = df['BlastFurnaceSlag'] / df['total']\n",
    "    df['Ash_pct'] = df['FlyAshComponent'] / df['total']\n",
    "    df['water_pct'] = df['WaterComponent'] / df['total']\n",
    "    df['plas_pct'] = df['SuperplasticizerComponent'] / df['total']\n",
    "    df['super_water'] = df['SuperplasticizerComponent'] / df['WaterComponent']\n",
    "#     df['water_pct_final'] = df['water_pct'] / (1 - df['plas_pct'])  # increase the rmse\n",
    "#     cols_to_drop = ['FlyAshComponent', 'BlastFurnaceSlag']\n",
    "#     df['if_Blast'] = df['BlastFurnaceSlag'] != 0\n",
    "#     df['if_Ash'] = df['FlyAshComponent'] != 0\n",
    "#     return df.drop(labels=cols_to_drop, axis=1)\n",
    "    return df"
   ]
  },
  {
   "cell_type": "code",
   "execution_count": 13,
   "id": "0b9c3841",
   "metadata": {
    "execution": {
     "iopub.execute_input": "2023-03-14T13:32:28.305580Z",
     "iopub.status.busy": "2023-03-14T13:32:28.304686Z",
     "iopub.status.idle": "2023-03-14T13:32:28.324936Z",
     "shell.execute_reply": "2023-03-14T13:32:28.323914Z"
    },
    "papermill": {
     "duration": 0.029642,
     "end_time": "2023-03-14T13:32:28.327013",
     "exception": false,
     "start_time": "2023-03-14T13:32:28.297371",
     "status": "completed"
    },
    "tags": []
   },
   "outputs": [
    {
     "data": {
      "text/plain": [
       "Index(['CementComponent', 'BlastFurnaceSlag', 'FlyAshComponent',\n",
       "       'WaterComponent', 'SuperplasticizerComponent',\n",
       "       'CoarseAggregateComponent', 'FineAggregateComponent', 'AgeInDays',\n",
       "       'total', 'Coarse_Fine', 'Aggregate', 'Slag_Cement', 'Ash_Cement',\n",
       "       'Age_Water', 'Cem_pct', 'Blast_pct', 'Ash_pct', 'water_pct', 'plas_pct',\n",
       "       'super_water'],\n",
       "      dtype='object')"
      ]
     },
     "execution_count": 13,
     "metadata": {},
     "output_type": "execute_result"
    }
   ],
   "source": [
    "X = feature_engineering(X)\n",
    "X.columns"
   ]
  },
  {
   "cell_type": "code",
   "execution_count": 14,
   "id": "b5cfdc41",
   "metadata": {
    "execution": {
     "iopub.execute_input": "2023-03-14T13:32:28.341663Z",
     "iopub.status.busy": "2023-03-14T13:32:28.341383Z",
     "iopub.status.idle": "2023-03-14T13:32:28.352387Z",
     "shell.execute_reply": "2023-03-14T13:32:28.351465Z"
    },
    "papermill": {
     "duration": 0.020801,
     "end_time": "2023-03-14T13:32:28.354452",
     "exception": false,
     "start_time": "2023-03-14T13:32:28.333651",
     "status": "completed"
    },
    "tags": []
   },
   "outputs": [],
   "source": [
    "def lgb_estimation(trial,data=X,target=y):\n",
    "    x_train, x_valid, y_train, y_valid = train_test_split(X, y, test_size=0.25,random_state=661)\n",
    "    params = {\n",
    "        'reg_alpha' : trial.suggest_float('alpha', 0, 10.0),\n",
    "        'reg_lambda' : trial.suggest_float('lambda', 0, 10.0),\n",
    "        'num_leaves' : trial.suggest_int('num_leaves' , 20 , 70),\n",
    "        'learning_rate' : trial.suggest_float('learning_rate' , 0.008 , 0.04),\n",
    "        'max_depth' : trial.suggest_int('max_depth', 5 , 15),\n",
    "        'n_estimators' : trial.suggest_int('n_estimators', 200 , 2000),\n",
    "        'min_child_weight': trial.suggest_float('min_child_weight', 1e-4, 100),\n",
    "        'subsample': trial.suggest_float('subsample', 0.5, 0.9, step=0.05), \n",
    "        'colsample_bytree': trial.suggest_float('colsample_bytree', 0.6, 0.9, step=0.05),\n",
    "        'min_child_samples' : trial.suggest_int('min_child_samples', 10, 100),\n",
    "        'metric' : 'l2_root',\n",
    "        'subsample_freq' : 1,\n",
    "#         'device_type' : 'gpu',\n",
    "    }\n",
    "\n",
    "    model = LGBMRegressor(**params, random_state=661, n_jobs=-1)\n",
    "    model.fit(x_train, y_train,eval_set=[(x_valid,y_valid)], callbacks=[log_evaluation(0), early_stopping(stopping_rounds=100)])\n",
    "    \n",
    "    preds = model.predict(x_valid)\n",
    "    # for classification\n",
    "#     fpr, tpr, thresholds = roc_curve(y_valid, preds, pos_label=1)\n",
    "    \n",
    "#     return auc(fpr, tpr)\n",
    "    # for regression\n",
    "    return np.sqrt(mean_squared_error(y_valid, preds))\n",
    "\n",
    "\n",
    "def train_lgb(mins):\n",
    "    train_time = 1 * mins * 60\n",
    "    study_lgb = optuna.create_study(direction='minimize', sampler=TPESampler(), study_name='LGBRegressor')\n",
    "    study_lgb.optimize(lgb_estimation, timeout=train_time)\n",
    "\n",
    "    print('Number of finished trials: ', len(study_lgb.trials))\n",
    "    print('Best trial:')\n",
    "    trial_lgb = study_lgb.best_trial\n",
    "\n",
    "    print('\\tValue: {}'.format(trial_lgb.value))\n",
    "    print('\\tParams: ')\n",
    "    for key, value in trial_lgb.params.items():\n",
    "        print('\\t\\t{}: {}'.format(key, value))\n",
    "    print(trial_lgb.params)\n",
    "    return trial_lgb.params\n"
   ]
  },
  {
   "cell_type": "code",
   "execution_count": 15,
   "id": "0ce1fb16",
   "metadata": {
    "execution": {
     "iopub.execute_input": "2023-03-14T13:32:28.368951Z",
     "iopub.status.busy": "2023-03-14T13:32:28.368688Z",
     "iopub.status.idle": "2023-03-14T13:32:28.380240Z",
     "shell.execute_reply": "2023-03-14T13:32:28.379243Z"
    },
    "papermill": {
     "duration": 0.020814,
     "end_time": "2023-03-14T13:32:28.382313",
     "exception": false,
     "start_time": "2023-03-14T13:32:28.361499",
     "status": "completed"
    },
    "tags": []
   },
   "outputs": [],
   "source": [
    "def xgb_estimation(trial,data=X,target=y):\n",
    "    \n",
    "    x_train, x_valid, y_train, y_valid = train_test_split(X, y, test_size=0.25,random_state=661)\n",
    "    param = {\n",
    "        'lambda': trial.suggest_float('lambda', 1, 100),\n",
    "        'alpha': trial.suggest_float('alpha', 1, 100),\n",
    "        'gamma': trial.suggest_float('gamma', 1e-3, 1e4),\n",
    "        'n_estimators': trial.suggest_int('n_estimators', 400, 4000, 400),\n",
    "        'colsample_bytree': trial.suggest_float('colsample_bytree', 0.2, 0.9, step=0.05),\n",
    "        'colsample_bylevel': trial.suggest_float('colsample_bylevel', 0.2, 0.9, step=0.05),\n",
    "        'subsample': trial.suggest_float('subsample', 0.5, 0.9, step=0.05),\n",
    "        'eta': trial.suggest_float('eta', 0.007,0.020),\n",
    "        'n_estimators': trial.suggest_int(\"n_estimators\",400,4000,400),\n",
    "        'max_depth': trial.suggest_int('max_depth', 3,15,1),\n",
    "        'min_child_weight': trial.suggest_float('min_child_weight', 1, 1000),\n",
    "    }\n",
    "    model = xgb.XGBModel(\n",
    "        objective='reg:squarederror',\n",
    "        tree_method='gpu_hist',   #which tree to chose: https://xgboost.readthedocs.io/en/latest/treemethod.html\n",
    "        predictor='gpu_predictor',\n",
    "        n_jobs=-1,\n",
    "        eval_metric='rmse',\n",
    "        **param\n",
    "    ) \n",
    "    \n",
    "    model.fit(x_train, y_train,\n",
    "            eval_set=[(x_valid, y_valid)], \n",
    "            verbose=False)\n",
    "    \n",
    "    preds = model.predict(x_valid)\n",
    "    \n",
    "#     for classification, use auc\n",
    "#     fpr, tpr, thresholds = roc_curve(y_valid, preds, pos_label=1)\n",
    "    \n",
    "#     return auc(fpr, tpr)\n",
    "\n",
    "#     for regression, use rmse\n",
    "    return np.sqrt(mean_squared_error(y_valid, preds))\n",
    "\n",
    "def train_xgb(mins):\n",
    "    train_time = 1 * mins * 60\n",
    "    study_xgb = optuna.create_study(direction='minimize', sampler=TPESampler(), study_name='XGBRegressor')\n",
    "    study_xgb.optimize(xgb_estimation, timeout=train_time)\n",
    "\n",
    "    print('Number of finished trials: ', len(study_xgb.trials))\n",
    "    print('Best trial:')\n",
    "    trial_xgb = study_xgb.best_trial\n",
    "\n",
    "    print('\\tValue: {}'.format(trial_xgb.value))\n",
    "    print('\\tParams: ')\n",
    "    for key, value in trial_xgb.params.items():\n",
    "        print('\\t\\t{}: {}'.format(key, value))\n",
    "    print(trial_xgb.params)\n",
    "    return trial_xgb.params"
   ]
  },
  {
   "cell_type": "code",
   "execution_count": 16,
   "id": "81adde01",
   "metadata": {
    "execution": {
     "iopub.execute_input": "2023-03-14T13:32:28.396225Z",
     "iopub.status.busy": "2023-03-14T13:32:28.395960Z",
     "iopub.status.idle": "2023-03-14T13:32:28.913719Z",
     "shell.execute_reply": "2023-03-14T13:32:28.912894Z"
    },
    "papermill": {
     "duration": 0.527447,
     "end_time": "2023-03-14T13:32:28.915969",
     "exception": false,
     "start_time": "2023-03-14T13:32:28.388522",
     "status": "completed"
    },
    "tags": []
   },
   "outputs": [
    {
     "name": "stdout",
     "output_type": "stream",
     "text": [
      "[LightGBM] [Warning] lambda_l2 is set with lambda=3.2271509145180466, reg_lambda=0.0 will be ignored. Current value: lambda_l2=3.2271509145180466\n",
      "Training until validation scores don't improve for 100 rounds\n",
      "Early stopping, best iteration is:\n",
      "[387]\tvalid_0's l2: 139.019\n"
     ]
    },
    {
     "data": {
      "text/plain": [
       "LGBMRegressor(alpha=1.420836449268614, colsample_bytree=0.6,\n",
       "              lambda=3.2271509145180466, learning_rate=0.016151838086801797,\n",
       "              max_depth=5, min_child_samples=27,\n",
       "              min_child_weight=90.18039116815461, n_estimators=1912,\n",
       "              num_leaves=65, subsample=0.7)"
      ]
     },
     "execution_count": 16,
     "metadata": {},
     "output_type": "execute_result"
    }
   ],
   "source": [
    "# v0  no feature engineering\n",
    "# lgb_params = {'alpha': 2.789391411903337, 'lambda': 0.7663779968619002, 'num_leaves': 58, 'learning_rate': 0.013804977701340305, 'max_depth': 4, 'n_estimators': 844, 'min_child_weight': 78.04268435027113, 'subsample': 0.9, 'colsample_bytree': 0.8, 'min_child_samples': 21}\n",
    "# v1 v11_feature_engineering  rmse: 11.7155509714386  score: 11.74218\n",
    "# lgb_params = {'alpha': 2.482984175954966, 'lambda': 2.163680191436034, 'num_leaves': 56, 'learning_rate': 0.02822666835102667, 'max_depth': 3, 'n_estimators': 359, 'min_child_weight': 49.369998334202066, 'subsample': 0.65, 'colsample_bytree': 0.4, 'min_child_samples': 57}\n",
    "# v2 v13_feature_engineering(water_pct_final)  rmse: 11.723014030837183 score: 11.76459 \n",
    "# lgb_params = {'alpha': 5.087555021928418, 'lambda': 0.45889733429019824, 'num_leaves': 45, 'learning_rate': 0.008991154466741197, 'max_depth': 3, 'n_estimators': 1660, 'min_child_weight': 72.79320449477417, 'subsample': 0.55, 'colsample_bytree': 0.6, 'min_child_samples': 44}\n",
    "# v3 v13 feature_engineering(between_features maybe overfit) rmse: 11.689622668785656\n",
    "# lgb_params = {'alpha': 3.7491051214928586, 'lambda': 9.754251878506999, 'num_leaves': 57, 'learning_rate': 0.035500366144771985, 'max_depth': 3, 'n_estimators': 406, 'min_child_weight': 62.55355297232509, 'subsample': 0.55, 'colsample_bytree': 0.25, 'min_child_samples': 56}\n",
    "# v4 v15 rmse: 11.743142650166241\n",
    "# lgb_params = {'alpha': 2.3374745222411537, 'lambda': 9.410472458752276, 'num_leaves': 66, 'learning_rate': 0.01096104650270119, 'max_depth': 3, 'n_estimators': 1403, 'min_child_weight': 95.18631980453459, 'subsample': 0.65, 'colsample_bytree': 0.35, 'min_child_samples': 41}\n",
    "# v5 v18 rmse: 11.713244127279372 score: 11.8083 \n",
    "# lgb_params = {'alpha': 8.529063913048997, 'lambda': 5.806774064890355, 'num_leaves': 46, 'learning_rate': 0.01037248111645384, 'max_depth': 3, 'n_estimators': 1651, 'min_child_weight': 0.15610884660612356, 'subsample': 0.55, 'colsample_bytree': 0.6, 'min_child_samples': 55}\n",
    "# v6 v19 rmse: 11.724836556076982 score: 11.79582 \n",
    "# lgb_params = {'alpha': 4.736526010858983, 'lambda': 5.813149749773689, 'num_leaves': 56, 'learning_rate': 0.022416568056289506, 'max_depth': 3, 'n_estimators': 405, 'min_child_weight': 34.408068961125664, 'subsample': 0.75, 'colsample_bytree': 0.5, 'min_child_samples': 37}\n",
    "# v7 v17 rmse: 11.71192877427309\n",
    "# lgb_params = {'alpha': 9.392288159151912, 'lambda': 1.3108059133034582, 'num_leaves': 64, 'learning_rate': 0.03006802262552128, 'max_depth': 3, 'n_estimators': 374, 'min_child_weight': 20.506669629607376, 'subsample': 0.5, 'colsample_bytree': 0.45000000000000007, 'min_child_samples': 64}\n",
    "# v18 v22 rmse: 11.71542344747918\n",
    "# lgb_params = {'alpha': 9.358818376720071, 'lambda': 0.03175652688643393, 'num_leaves': 45, 'learning_rate': 0.013760720362070742, 'max_depth': 3, 'n_estimators': 1853, 'min_child_weight': 82.27660904356708, 'subsample': 0.7, 'colsample_bytree': 0.4, 'min_child_samples': 42}\n",
    "# v24 rmse: 11.707863378485195 score: 11.77161\n",
    "# lgb_params = {'alpha': 9.424376346434014, 'lambda': 4.754657333356563, 'num_leaves': 60, 'learning_rate': 0.03996759455689611, 'max_depth': 3, 'n_estimators': 432, 'min_child_weight': 45.42006633303572, 'subsample': 0.6, 'colsample_bytree': 0.6, 'min_child_samples': 28}\n",
    "# v26 rmse: 11.7027834614787\n",
    "# lgb_params = {'alpha': 0.801121692934334, 'lambda': 0.8007530708651776, 'num_leaves': 27, 'learning_rate': 0.01910783502628706, 'max_depth': 3, 'n_estimators': 1805, 'min_child_weight': 62.372711490923514, 'subsample': 0.55, 'colsample_bytree': 0.7500000000000001, 'min_child_samples': 23}\n",
    "# v27 rmse: 11.735\n",
    "lgb_params = {'alpha': 1.420836449268614, 'lambda': 3.2271509145180466, 'num_leaves': 65, 'learning_rate': 0.016151838086801797, 'max_depth': 5, 'n_estimators': 1912, 'min_child_weight': 90.18039116815461, 'subsample': 0.7, 'colsample_bytree': 0.6, 'min_child_samples': 27}\n",
    "\n",
    "# fit the LGBM model.\n",
    "model_lgb = LGBMRegressor(**lgb_params)\n",
    "X_train, X_validate, y_train, y_validate = train_test_split(X, y, test_size=0.25,random_state=661)\n",
    "model_lgb.fit(\n",
    "    X_train, \n",
    "    y_train, \n",
    "    eval_set=[(X_validate, y_validate)], \n",
    "    callbacks=[log_evaluation(0), early_stopping(stopping_rounds=100)]\n",
    ")"
   ]
  },
  {
   "cell_type": "markdown",
   "id": "565005ad",
   "metadata": {
    "papermill": {
     "duration": 0.006612,
     "end_time": "2023-03-14T13:32:28.930190",
     "exception": false,
     "start_time": "2023-03-14T13:32:28.923578",
     "status": "completed"
    },
    "tags": []
   },
   "source": [
    "## Model Training"
   ]
  },
  {
   "cell_type": "markdown",
   "id": "1d939c9e",
   "metadata": {
    "papermill": {
     "duration": 0.006566,
     "end_time": "2023-03-14T13:32:28.943355",
     "exception": false,
     "start_time": "2023-03-14T13:32:28.936789",
     "status": "completed"
    },
    "tags": []
   },
   "source": [
    "### LightGBM"
   ]
  },
  {
   "cell_type": "code",
   "execution_count": 17,
   "id": "81ae8b68",
   "metadata": {
    "execution": {
     "iopub.execute_input": "2023-03-14T13:32:28.958312Z",
     "iopub.status.busy": "2023-03-14T13:32:28.957927Z",
     "iopub.status.idle": "2023-03-14T13:32:35.602794Z",
     "shell.execute_reply": "2023-03-14T13:32:35.601594Z"
    },
    "papermill": {
     "duration": 6.655224,
     "end_time": "2023-03-14T13:32:35.605109",
     "exception": false,
     "start_time": "2023-03-14T13:32:28.949885",
     "status": "completed"
    },
    "tags": []
   },
   "outputs": [
    {
     "data": {
      "text/plain": [
       "XGBModel(alpha=66.7857360405316, base_score=0.5, booster='gbtree',\n",
       "         colsample_bylevel=0.5, colsample_bynode=1, colsample_bytree=0.65,\n",
       "         eta=0.01478860713528666, eval_metric='rmse', gamma=291.373769438789,\n",
       "         gpu_id=0, grow_policy='depthwise', interaction_constraints='',\n",
       "         lambda=87.37999792744466, learning_rate=0.0147886071, max_bin=256,\n",
       "         max_cat_to_onehot=4, max_delta_step=0, max_depth=10, max_leaves=0,\n",
       "         min_child_weight=27.45479074069285, monotone_constraints='()',\n",
       "         n_estimators=3600, n_jobs=-1, num_parallel_tree=1,\n",
       "         objective='reg:squarederror', predictor='gpu_predictor',\n",
       "         random_state=0, reg_alpha=66.7857361, reg_lambda=87.3799973,\n",
       "         sampling_method='uniform', ...)"
      ]
     },
     "execution_count": 17,
     "metadata": {},
     "output_type": "execute_result"
    }
   ],
   "source": [
    "# fit the xgboost model.\n",
    "# v0 no feature engineering\n",
    "# xgb_params = {'lambda': 77.49962549883482, 'alpha': 82.18225259625488, 'gamma': 15.931349867898405, 'n_estimators': 800, 'colsample_bytree': 0.7, 'colsample_bylevel': 0.8500000000000001, 'subsample': 0.8, 'eta': 0.012725247852891981, 'max_depth': 6, 'min_child_weight': 68.89402022666454}\n",
    "# v1 feature engeneering all  rmse: 11.715139358976572  public score: 11.79273\n",
    "# xgb_params = {'lambda': 32.177299907723544, 'alpha': 20.217011924089984, 'gamma': 491.07449304092654, 'n_estimators': 1600, 'colsample_bytree': 0.7, 'colsample_bylevel': 0.30000000000000004, 'subsample': 0.6, 'eta': 0.01955176865058411, 'max_depth': 15, 'min_child_weight': 34.07594093214089}\n",
    "# v2 community feature engineering rmse: 11.694449478177797  public score: 11.82519\n",
    "# xgb_params = {'lambda': 7.686305623499616, 'alpha': 77.65142691683158, 'gamma': 388.4159370385702, 'n_estimators': 1600, 'colsample_bytree': 0.65, 'colsample_bylevel': 0.8, 'subsample': 0.55, 'eta': 0.018884247339333155, 'max_depth': 11, 'min_child_weight': 23.745743912778618}\n",
    "# v3 v9_feature_engineering rmse: 11.734282077275951  \n",
    "# xgb_params = {'lambda': 15.893228226420925, 'alpha': 94.95204503532351, 'gamma': 381.39486886168913, 'n_estimators': 1200, 'colsample_bytree': 0.9, 'colsample_bylevel': 0.9, 'subsample': 0.65, 'eta': 0.017645060611547, 'max_depth': 15, 'min_child_weight': 41.410481195227675}\n",
    "# v4 v12_feature_engineering (water_pct_final) rmse: 11.731640479150283\n",
    "# xgb_params = {'lambda': 34.85527435683103, 'alpha': 95.29159461807336, 'gamma': 478.52009376310014, 'n_estimators': 2000, 'colsample_bytree': 0.75, 'colsample_bylevel': 0.75, 'subsample': 0.5, 'eta': 0.019031153557641307, 'max_depth': 12, 'min_child_weight': 17.61448760776969}\n",
    "# v5 v15 rmse: 11.73854631800215\n",
    "# xgb_params = {'lambda': 98.05815450876177, 'alpha': 46.38007332681764, 'gamma': 350.83727095786116, 'n_estimators': 4000, 'colsample_bytree': 0.7, 'colsample_bylevel': 0.6000000000000001, 'subsample': 0.8500000000000001, 'eta': 0.008556361136498328, 'max_depth': 11, 'min_child_weight': 40.180165994809514}\n",
    "#v6 v17 rmse: 11.730942170898608\n",
    "# xgb_params = {'lambda': 52.69991876135283, 'alpha': 84.74832566934813, 'gamma': 305.8186771906626, 'n_estimators': 1600, 'colsample_bytree': 0.75, 'colsample_bylevel': 0.7, 'subsample': 0.5, 'eta': 0.01033984835688292, 'max_depth': 12, 'min_child_weight': 53.15059624182796}\n",
    "# v7 v19 rmse: 11.7228519218682 \n",
    "# xgb_params = {'lambda': 7.977216542047289, 'alpha': 96.00256121054734, 'gamma': 424.7246280499904, 'n_estimators': 4000, 'colsample_bytree': 0.55, 'colsample_bylevel': 0.7, 'subsample': 0.55, 'eta': 0.014976260190252628, 'max_depth': 7, 'min_child_weight': 11.31803342543569}\n",
    "# v8 v20 rmse: 11.732066771740824\n",
    "# xgb_params = {'lambda': 68.19771188033513, 'alpha': 5.585692610410164, 'gamma': 321.8943596982266, 'n_estimators': 1200, 'colsample_bytree': 0.55, 'colsample_bylevel': 0.65, 'subsample': 0.8, 'eta': 0.017995572196639494, 'max_depth': 3, 'min_child_weight': 28.520534406461202}\n",
    "# v9 v23 rmse: 11.732104374090634\n",
    "# xgb_params = {'lambda': 75.617892952552, 'alpha': 98.40697023717092, 'gamma': 328.9884692345956, 'n_estimators': 3200, 'colsample_bytree': 0.55, 'colsample_bylevel': 0.8500000000000001, 'subsample': 0.7, 'eta': 0.00741171762054712, 'max_depth': 15, 'min_child_weight': 50.42121145748578}\n",
    "# v10 v24 rmse: 11.711545919979155\n",
    "# xgb_params = {'lambda': 83.12498282712812, 'alpha': 48.48906979813305, 'gamma': 345.75902869986123, 'n_estimators': 1200, 'colsample_bytree': 0.9, 'colsample_bylevel': 0.35000000000000003, 'subsample': 0.6, 'eta': 0.014800264592487837, 'max_depth': 12, 'min_child_weight': 33.390681675651194}\n",
    "# v24 rmse: 11.71000255332253 score: 11.80\n",
    "# xgb_params = {'lambda': 40.12006385309597, 'alpha': 52.351701471931115, 'gamma': 585.9269359658983, 'n_estimators': 2000, 'colsample_bytree': 0.9, 'colsample_bylevel': 0.4, 'subsample': 0.65, 'eta': 0.016884486184806917, 'max_depth': 12, 'min_child_weight': 19.001287767449224}\n",
    "# v27 rmse: 11.714141795087102\n",
    "xgb_params = {'lambda': 87.37999792744466, 'alpha': 66.7857360405316, 'gamma': 291.373769438789, 'n_estimators': 3600, 'colsample_bytree': 0.65, 'colsample_bylevel': 0.5, 'subsample': 0.7, 'eta': 0.01478860713528666, 'max_depth': 10, 'min_child_weight': 27.45479074069285}\n",
    "\n",
    "model_xgb = xgb.XGBModel(\n",
    "        objective='reg:squarederror',\n",
    "        tree_method='gpu_hist',   #which tree to chose: https://xgboost.readthedocs.io/en/latest/treemethod.html\n",
    "        predictor='gpu_predictor',\n",
    "        n_jobs=-1,\n",
    "        eval_metric='rmse',\n",
    "        **xgb_params\n",
    "    )\n",
    "X_train, X_validate, y_train, y_validate = train_test_split(X, y, test_size=0.25,random_state=661)\n",
    "model_xgb.fit(\n",
    "    X_train, \n",
    "    y_train, \n",
    "    eval_set=[(X_validate, y_validate)], \n",
    "    verbose=False\n",
    ")"
   ]
  },
  {
   "cell_type": "code",
   "execution_count": 18,
   "id": "1c47492e",
   "metadata": {
    "execution": {
     "iopub.execute_input": "2023-03-14T13:32:35.620904Z",
     "iopub.status.busy": "2023-03-14T13:32:35.619941Z",
     "iopub.status.idle": "2023-03-14T13:32:35.723999Z",
     "shell.execute_reply": "2023-03-14T13:32:35.723021Z"
    },
    "papermill": {
     "duration": 0.114321,
     "end_time": "2023-03-14T13:32:35.726335",
     "exception": false,
     "start_time": "2023-03-14T13:32:35.612014",
     "status": "completed"
    },
    "tags": []
   },
   "outputs": [],
   "source": [
    "# generate the predict value\n",
    "pred_lgb = model_lgb.predict(feature_engineering(test.drop(['id'], axis=1)))\n",
    "pred_xgb = model_xgb.predict(feature_engineering(test.drop(['id'], axis=1)))"
   ]
  },
  {
   "cell_type": "code",
   "execution_count": 19,
   "id": "3827a00b",
   "metadata": {
    "execution": {
     "iopub.execute_input": "2023-03-14T13:32:35.741787Z",
     "iopub.status.busy": "2023-03-14T13:32:35.741372Z",
     "iopub.status.idle": "2023-03-14T13:32:35.753585Z",
     "shell.execute_reply": "2023-03-14T13:32:35.752566Z"
    },
    "papermill": {
     "duration": 0.022066,
     "end_time": "2023-03-14T13:32:35.755714",
     "exception": false,
     "start_time": "2023-03-14T13:32:35.733648",
     "status": "completed"
    },
    "tags": []
   },
   "outputs": [
    {
     "data": {
      "text/html": [
       "<div>\n",
       "<style scoped>\n",
       "    .dataframe tbody tr th:only-of-type {\n",
       "        vertical-align: middle;\n",
       "    }\n",
       "\n",
       "    .dataframe tbody tr th {\n",
       "        vertical-align: top;\n",
       "    }\n",
       "\n",
       "    .dataframe thead th {\n",
       "        text-align: right;\n",
       "    }\n",
       "</style>\n",
       "<table border=\"1\" class=\"dataframe\">\n",
       "  <thead>\n",
       "    <tr style=\"text-align: right;\">\n",
       "      <th></th>\n",
       "      <th>Feature</th>\n",
       "      <th>Importance</th>\n",
       "    </tr>\n",
       "  </thead>\n",
       "  <tbody>\n",
       "    <tr>\n",
       "      <th>0</th>\n",
       "      <td>CementComponent</td>\n",
       "      <td>323</td>\n",
       "    </tr>\n",
       "    <tr>\n",
       "      <th>1</th>\n",
       "      <td>BlastFurnaceSlag</td>\n",
       "      <td>127</td>\n",
       "    </tr>\n",
       "    <tr>\n",
       "      <th>2</th>\n",
       "      <td>FlyAshComponent</td>\n",
       "      <td>64</td>\n",
       "    </tr>\n",
       "    <tr>\n",
       "      <th>3</th>\n",
       "      <td>WaterComponent</td>\n",
       "      <td>251</td>\n",
       "    </tr>\n",
       "    <tr>\n",
       "      <th>4</th>\n",
       "      <td>SuperplasticizerComponent</td>\n",
       "      <td>142</td>\n",
       "    </tr>\n",
       "    <tr>\n",
       "      <th>5</th>\n",
       "      <td>CoarseAggregateComponent</td>\n",
       "      <td>462</td>\n",
       "    </tr>\n",
       "    <tr>\n",
       "      <th>6</th>\n",
       "      <td>FineAggregateComponent</td>\n",
       "      <td>381</td>\n",
       "    </tr>\n",
       "    <tr>\n",
       "      <th>7</th>\n",
       "      <td>AgeInDays</td>\n",
       "      <td>249</td>\n",
       "    </tr>\n",
       "    <tr>\n",
       "      <th>8</th>\n",
       "      <td>total</td>\n",
       "      <td>619</td>\n",
       "    </tr>\n",
       "    <tr>\n",
       "      <th>9</th>\n",
       "      <td>Coarse_Fine</td>\n",
       "      <td>385</td>\n",
       "    </tr>\n",
       "    <tr>\n",
       "      <th>10</th>\n",
       "      <td>Aggregate</td>\n",
       "      <td>477</td>\n",
       "    </tr>\n",
       "    <tr>\n",
       "      <th>11</th>\n",
       "      <td>Slag_Cement</td>\n",
       "      <td>154</td>\n",
       "    </tr>\n",
       "    <tr>\n",
       "      <th>12</th>\n",
       "      <td>Ash_Cement</td>\n",
       "      <td>106</td>\n",
       "    </tr>\n",
       "    <tr>\n",
       "      <th>13</th>\n",
       "      <td>Age_Water</td>\n",
       "      <td>805</td>\n",
       "    </tr>\n",
       "    <tr>\n",
       "      <th>14</th>\n",
       "      <td>Cem_pct</td>\n",
       "      <td>432</td>\n",
       "    </tr>\n",
       "    <tr>\n",
       "      <th>15</th>\n",
       "      <td>Blast_pct</td>\n",
       "      <td>143</td>\n",
       "    </tr>\n",
       "    <tr>\n",
       "      <th>16</th>\n",
       "      <td>Ash_pct</td>\n",
       "      <td>158</td>\n",
       "    </tr>\n",
       "    <tr>\n",
       "      <th>17</th>\n",
       "      <td>water_pct</td>\n",
       "      <td>332</td>\n",
       "    </tr>\n",
       "    <tr>\n",
       "      <th>18</th>\n",
       "      <td>plas_pct</td>\n",
       "      <td>138</td>\n",
       "    </tr>\n",
       "    <tr>\n",
       "      <th>19</th>\n",
       "      <td>super_water</td>\n",
       "      <td>170</td>\n",
       "    </tr>\n",
       "  </tbody>\n",
       "</table>\n",
       "</div>"
      ],
      "text/plain": [
       "                      Feature  Importance\n",
       "0             CementComponent         323\n",
       "1            BlastFurnaceSlag         127\n",
       "2             FlyAshComponent          64\n",
       "3              WaterComponent         251\n",
       "4   SuperplasticizerComponent         142\n",
       "5    CoarseAggregateComponent         462\n",
       "6      FineAggregateComponent         381\n",
       "7                   AgeInDays         249\n",
       "8                       total         619\n",
       "9                 Coarse_Fine         385\n",
       "10                  Aggregate         477\n",
       "11                Slag_Cement         154\n",
       "12                 Ash_Cement         106\n",
       "13                  Age_Water         805\n",
       "14                    Cem_pct         432\n",
       "15                  Blast_pct         143\n",
       "16                    Ash_pct         158\n",
       "17                  water_pct         332\n",
       "18                   plas_pct         138\n",
       "19                super_water         170"
      ]
     },
     "execution_count": 19,
     "metadata": {},
     "output_type": "execute_result"
    }
   ],
   "source": [
    "feature_importances = pd.DataFrame({'Feature': model_lgb.feature_name_, 'Importance': model_lgb.feature_importances_})\n",
    "feature_importances"
   ]
  },
  {
   "cell_type": "code",
   "execution_count": 20,
   "id": "856ca2ea",
   "metadata": {
    "execution": {
     "iopub.execute_input": "2023-03-14T13:32:35.771152Z",
     "iopub.status.busy": "2023-03-14T13:32:35.770868Z",
     "iopub.status.idle": "2023-03-14T13:32:52.442529Z",
     "shell.execute_reply": "2023-03-14T13:32:52.441525Z"
    },
    "papermill": {
     "duration": 16.682229,
     "end_time": "2023-03-14T13:32:52.444976",
     "exception": false,
     "start_time": "2023-03-14T13:32:35.762747",
     "status": "completed"
    },
    "tags": []
   },
   "outputs": [
    {
     "name": "stdout",
     "output_type": "stream",
     "text": [
      "[LightGBM] [Warning] lambda_l2 is set with lambda=3.2271509145180466, reg_lambda=0.0 will be ignored. Current value: lambda_l2=3.2271509145180466\n",
      "Training until validation scores don't improve for 100 rounds\n",
      "Early stopping, best iteration is:\n",
      "[209]\tvalid_0's l2: 136.769\n",
      "fold: 1 rmse xgb: 11.583497358517894 | rmse LGBM: 11.6948475192688 final rmse is: 11.639172438893347\n",
      "[LightGBM] [Warning] lambda_l2 is set with lambda=3.2271509145180466, reg_lambda=0.0 will be ignored. Current value: lambda_l2=3.2271509145180466\n",
      "Training until validation scores don't improve for 100 rounds\n",
      "Early stopping, best iteration is:\n",
      "[221]\tvalid_0's l2: 158.333\n",
      "fold: 2 rmse xgb: 12.519523445087883 | rmse LGBM: 12.583030939242517 final rmse is: 12.5512771921652\n",
      "[LightGBM] [Warning] lambda_l2 is set with lambda=3.2271509145180466, reg_lambda=0.0 will be ignored. Current value: lambda_l2=3.2271509145180466\n",
      "Training until validation scores don't improve for 100 rounds\n",
      "Early stopping, best iteration is:\n",
      "[258]\tvalid_0's l2: 128.061\n",
      "fold: 3 rmse xgb: 11.220134822086619 | rmse LGBM: 11.316411318255215 final rmse is: 11.268273070170917\n",
      "[LightGBM] [Warning] lambda_l2 is set with lambda=3.2271509145180466, reg_lambda=0.0 will be ignored. Current value: lambda_l2=3.2271509145180466\n",
      "Training until validation scores don't improve for 100 rounds\n",
      "Early stopping, best iteration is:\n",
      "[483]\tvalid_0's l2: 163.111\n",
      "fold: 4 rmse xgb: 12.745802775891551 | rmse LGBM: 12.771503735179655 final rmse is: 12.758653255535602\n",
      "[LightGBM] [Warning] lambda_l2 is set with lambda=3.2271509145180466, reg_lambda=0.0 will be ignored. Current value: lambda_l2=3.2271509145180466\n",
      "Training until validation scores don't improve for 100 rounds\n",
      "Early stopping, best iteration is:\n",
      "[295]\tvalid_0's l2: 155.606\n",
      "fold: 5 rmse xgb: 12.44758608974812 | rmse LGBM: 12.474230001964463 final rmse is: 12.460908045856291\n",
      "[LightGBM] [Warning] lambda_l2 is set with lambda=3.2271509145180466, reg_lambda=0.0 will be ignored. Current value: lambda_l2=3.2271509145180466\n",
      "Training until validation scores don't improve for 100 rounds\n",
      "Early stopping, best iteration is:\n",
      "[201]\tvalid_0's l2: 136.392\n",
      "fold: 6 rmse xgb: 11.666863652188834 | rmse LGBM: 11.678683059354155 final rmse is: 11.672773355771493\n",
      "[LightGBM] [Warning] lambda_l2 is set with lambda=3.2271509145180466, reg_lambda=0.0 will be ignored. Current value: lambda_l2=3.2271509145180466\n",
      "Training until validation scores don't improve for 100 rounds\n",
      "Early stopping, best iteration is:\n",
      "[213]\tvalid_0's l2: 160.207\n",
      "fold: 7 rmse xgb: 12.588667688309856 | rmse LGBM: 12.657302722546964 final rmse is: 12.62298520542841\n",
      "[LightGBM] [Warning] lambda_l2 is set with lambda=3.2271509145180466, reg_lambda=0.0 will be ignored. Current value: lambda_l2=3.2271509145180466\n",
      "Training until validation scores don't improve for 100 rounds\n",
      "Early stopping, best iteration is:\n",
      "[565]\tvalid_0's l2: 139.992\n",
      "fold: 8 rmse xgb: 11.853685061650536 | rmse LGBM: 11.83180399051463 final rmse is: 11.842744526082583\n",
      "[LightGBM] [Warning] lambda_l2 is set with lambda=3.2271509145180466, reg_lambda=0.0 will be ignored. Current value: lambda_l2=3.2271509145180466\n",
      "Training until validation scores don't improve for 100 rounds\n",
      "Early stopping, best iteration is:\n",
      "[235]\tvalid_0's l2: 133.574\n",
      "fold: 9 rmse xgb: 11.550601509368509 | rmse LGBM: 11.55743737897382 final rmse is: 11.554019444171164\n",
      "[LightGBM] [Warning] lambda_l2 is set with lambda=3.2271509145180466, reg_lambda=0.0 will be ignored. Current value: lambda_l2=3.2271509145180466\n",
      "Training until validation scores don't improve for 100 rounds\n",
      "Early stopping, best iteration is:\n",
      "[478]\tvalid_0's l2: 158.785\n",
      "fold: 10 rmse xgb: 12.577216421062113 | rmse LGBM: 12.600981003093416 final rmse is: 12.589098712077764\n",
      "12.095990524615278\n"
     ]
    }
   ],
   "source": [
    "test_df = feature_engineering(test.drop(['id'], axis=1))\n",
    "kfold = KFold(n_splits=10, shuffle=True, random_state=0)\n",
    "pred_xgb = np.zeros(test_df.shape[0])\n",
    "pred_lgb = np.zeros(test_df.shape[0])\n",
    "rmse_xgb=[] \n",
    "rmse_lgb=[]\n",
    "rmse = []# list contains rmse for each fold\n",
    "n=0\n",
    "\n",
    "for i, (train_index, valid_index) in enumerate(kfold.split(X, y)):\n",
    "    x_train, y_train = X.iloc[train_index], y.iloc[train_index]\n",
    "    x_valid, y_valid = X.loc[valid_index], y.iloc[valid_index]\n",
    "    \n",
    "    # XGBoost regressor\n",
    "    model_xgb = xgb.XGBModel(\n",
    "        objective='reg:squarederror',\n",
    "        tree_method='gpu_hist',\n",
    "        predictor='gpu_predictor',\n",
    "        n_jobs=-1,\n",
    "        eval_metric='rmse',\n",
    "        early_stopping_rounds=100,\n",
    "        **xgb_params\n",
    "    )\n",
    "    model_xgb.fit(x_train,y_train,eval_set=[(x_valid,y_valid)],verbose=False) \n",
    "    pred_xgb+=model_xgb.predict(test_df)/kfold.n_splits\n",
    "    rmse_xgb.append(mean_squared_error(y_valid, model_xgb.predict(x_valid), squared=False))\n",
    "    \n",
    "    \n",
    "    # LightGBM regressor\n",
    "    model_lgb = LGBMRegressor(**lgb_params)\n",
    "    model_lgb.fit(x_train,y_train,eval_set=[(x_valid,y_valid)],callbacks=[log_evaluation(0), early_stopping(stopping_rounds=100)]) \n",
    "    pred_lgb+=model_lgb.predict(test_df)/kfold.n_splits\n",
    "    rmse_lgb.append(mean_squared_error(y_valid, model_lgb.predict(x_valid), squared=False))\n",
    "    \n",
    "    rmse_val = (rmse_xgb[n]+ rmse_lgb[n]) / 2\n",
    "    rmse.append(rmse_val)\n",
    "    print(f\"fold: {n+1} rmse xgb: {rmse_xgb[n]} | rmse LGBM: {rmse_lgb[n]} final rmse is: {rmse[n]}\")\n",
    "    n+=1\n",
    "\n",
    "print(np.mean(rmse))"
   ]
  },
  {
   "cell_type": "code",
   "execution_count": 21,
   "id": "f9af706c",
   "metadata": {
    "execution": {
     "iopub.execute_input": "2023-03-14T13:32:52.465328Z",
     "iopub.status.busy": "2023-03-14T13:32:52.465003Z",
     "iopub.status.idle": "2023-03-14T13:32:52.471437Z",
     "shell.execute_reply": "2023-03-14T13:32:52.469861Z"
    },
    "papermill": {
     "duration": 0.018434,
     "end_time": "2023-03-14T13:32:52.473666",
     "exception": false,
     "start_time": "2023-03-14T13:32:52.455232",
     "status": "completed"
    },
    "tags": []
   },
   "outputs": [],
   "source": [
    "def mix_submit(lgb):\n",
    "    pred = pred_lgb * lgb + pred_xgb * (1-lgb)\n",
    "    res = pd.concat([test['id'], pd.DataFrame(pred)], axis=1)\n",
    "    res.rename(columns={0:'Strength'}, inplace=True)\n",
    "    res.set_index('id', inplace=True)\n",
    "    res.to_csv('submission.csv')\n",
    "    print(res)"
   ]
  },
  {
   "cell_type": "code",
   "execution_count": 22,
   "id": "76344f5d",
   "metadata": {
    "execution": {
     "iopub.execute_input": "2023-03-14T13:32:52.492074Z",
     "iopub.status.busy": "2023-03-14T13:32:52.491793Z",
     "iopub.status.idle": "2023-03-14T13:32:52.511400Z",
     "shell.execute_reply": "2023-03-14T13:32:52.510264Z"
    },
    "papermill": {
     "duration": 0.03204,
     "end_time": "2023-03-14T13:32:52.513893",
     "exception": false,
     "start_time": "2023-03-14T13:32:52.481853",
     "status": "completed"
    },
    "tags": []
   },
   "outputs": [
    {
     "name": "stdout",
     "output_type": "stream",
     "text": [
      "       Strength\n",
      "id             \n",
      "5407  49.008785\n",
      "5408  19.993742\n",
      "5409  35.354383\n",
      "5410  47.873794\n",
      "5411  33.518537\n",
      "...         ...\n",
      "9007  32.381464\n",
      "9008  36.113751\n",
      "9009  39.088935\n",
      "9010  32.727725\n",
      "9011  20.789249\n",
      "\n",
      "[3605 rows x 1 columns]\n"
     ]
    }
   ],
   "source": [
    "mix_submit(0.8)"
   ]
  }
 ],
 "metadata": {
  "kernelspec": {
   "display_name": "Python 3",
   "language": "python",
   "name": "python3"
  },
  "language_info": {
   "codemirror_mode": {
    "name": "ipython",
    "version": 3
   },
   "file_extension": ".py",
   "mimetype": "text/x-python",
   "name": "python",
   "nbconvert_exporter": "python",
   "pygments_lexer": "ipython3",
   "version": "3.7.12"
  },
  "papermill": {
   "default_parameters": {},
   "duration": 39.839377,
   "end_time": "2023-03-14T13:32:54.742344",
   "environment_variables": {},
   "exception": null,
   "input_path": "__notebook__.ipynb",
   "output_path": "__notebook__.ipynb",
   "parameters": {},
   "start_time": "2023-03-14T13:32:14.902967",
   "version": "2.4.0"
  }
 },
 "nbformat": 4,
 "nbformat_minor": 5
}
